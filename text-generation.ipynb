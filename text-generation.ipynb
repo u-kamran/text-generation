{
  "nbformat": 4,
  "nbformat_minor": 0,
  "metadata": {
    "colab": {
      "name": "Completed Code",
      "provenance": [],
      "collapsed_sections": []
    },
    "kernelspec": {
      "name": "python3",
      "display_name": "Python 3"
    },
    "accelerator": "GPU"
  },
  "cells": [
    {
      "cell_type": "code",
      "metadata": {
        "id": "sBS5Um2Xto-p"
      },
      "source": [
        "import json, os\n",
        "\n",
        "import numpy as np\n",
        "import tensorflow as tf\n",
        "import matplotlib.pyplot as plt\n",
        "\n",
        "from tensorflow.keras.preprocessing.sequence import pad_sequences"
      ],
      "execution_count": null,
      "outputs": []
    },
    {
      "cell_type": "code",
      "metadata": {
        "id": "JONsCsObAJDT",
        "colab": {
          "resources": {
            "http://localhost:8080/nbextensions/google.colab/files.js": {
              "data": "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",
              "ok": true,
              "headers": [
                [
                  "content-type",
                  "application/javascript"
                ]
              ],
              "status": 200,
              "status_text": ""
            }
          },
          "base_uri": "https://localhost:8080/",
          "height": 72
        },
        "outputId": "2b406d6b-1ecb-4ec9-b8dd-cc30eee4c97a"
      },
      "source": [
        "from google.colab import files\n",
        "selected_file = files.upload()"
      ],
      "execution_count": null,
      "outputs": [
        {
          "output_type": "display_data",
          "data": {
            "text/html": [
              "\n",
              "     <input type=\"file\" id=\"files-42b8063d-5441-4698-bcc2-a1fb84d67e91\" name=\"files[]\" multiple disabled\n",
              "        style=\"border:none\" />\n",
              "     <output id=\"result-42b8063d-5441-4698-bcc2-a1fb84d67e91\">\n",
              "      Upload widget is only available when the cell has been executed in the\n",
              "      current browser session. Please rerun this cell to enable.\n",
              "      </output>\n",
              "      <script src=\"/nbextensions/google.colab/files.js\"></script> "
            ],
            "text/plain": [
              "<IPython.core.display.HTML object>"
            ]
          },
          "metadata": {
            "tags": []
          }
        },
        {
          "output_type": "stream",
          "text": [
            "Saving data.txt to data.txt\n"
          ],
          "name": "stdout"
        }
      ]
    },
    {
      "cell_type": "code",
      "metadata": {
        "id": "fsKiWWlvi4e_"
      },
      "source": [
        "with open('data.txt', 'r', encoding=\"utf-8\") as data_file:\n",
        "    complete_data = data_file.read().replace('\\n', ' ')"
      ],
      "execution_count": null,
      "outputs": []
    },
    {
      "cell_type": "code",
      "metadata": {
        "id": "J0mz2AZDkipS"
      },
      "source": [
        "unique_characters = sorted(set(complete_data))"
      ],
      "execution_count": null,
      "outputs": []
    },
    {
      "cell_type": "code",
      "metadata": {
        "id": "Gl-9ryO5ndEo"
      },
      "source": [
        "simple_encoding = {character:value for value, character in enumerate(unique_characters)}"
      ],
      "execution_count": null,
      "outputs": []
    },
    {
      "cell_type": "code",
      "metadata": {
        "colab": {
          "base_uri": "https://localhost:8080/"
        },
        "id": "0Mc1vxdLt5f9",
        "outputId": "8947888d-c4a0-43b8-a8ee-6eb45ae85768"
      },
      "source": [
        "print(simple_encoding)"
      ],
      "execution_count": null,
      "outputs": [
        {
          "output_type": "stream",
          "text": [
            "{' ': 0, '!': 1, '\"': 2, \"'\": 3, '(': 4, ')': 5, ',': 6, '-': 7, '.': 8, ':': 9, ';': 10, '?': 11, 'A': 12, 'B': 13, 'C': 14, 'D': 15, 'E': 16, 'F': 17, 'G': 18, 'H': 19, 'I': 20, 'J': 21, 'K': 22, 'L': 23, 'M': 24, 'N': 25, 'O': 26, 'P': 27, 'Q': 28, 'R': 29, 'S': 30, 'T': 31, 'U': 32, 'V': 33, 'W': 34, 'Y': 35, 'Z': 36, 'a': 37, 'b': 38, 'c': 39, 'd': 40, 'e': 41, 'f': 42, 'g': 43, 'h': 44, 'i': 45, 'j': 46, 'k': 47, 'l': 48, 'm': 49, 'n': 50, 'o': 51, 'p': 52, 'q': 53, 'r': 54, 's': 55, 't': 56, 'u': 57, 'v': 58, 'w': 59, 'x': 60, 'y': 61, 'z': 62}\n"
          ],
          "name": "stdout"
        }
      ]
    },
    {
      "cell_type": "code",
      "metadata": {
        "colab": {
          "base_uri": "https://localhost:8080/"
        },
        "id": "wjoMCd57PVU-",
        "outputId": "16d7a2d5-fff4-48f9-8616-310b31c321c9"
      },
      "source": [
        "print(f\"Total Number of Unique Characters: {len(unique_characters)}\")"
      ],
      "execution_count": null,
      "outputs": [
        {
          "output_type": "stream",
          "text": [
            "Total Number of Unique Characters: 63\n"
          ],
          "name": "stdout"
        }
      ]
    },
    {
      "cell_type": "code",
      "metadata": {
        "id": "SQ32p29CtHJG"
      },
      "source": [
        "with open('data.txt', 'r', encoding=\"utf-8\") as data_file:\n",
        "    initial_data = []\n",
        "    for line in data_file:\n",
        "        initial_data.append(line.replace('\\n', ''))"
      ],
      "execution_count": null,
      "outputs": []
    },
    {
      "cell_type": "code",
      "metadata": {
        "colab": {
          "base_uri": "https://localhost:8080/"
        },
        "id": "I0y2CQJklET5",
        "outputId": "d6b32e69-331d-4c8c-abd4-cd4654417e02"
      },
      "source": [
        "print(f\"Total Number of Characters: {len(complete_data)}\")\n",
        "print(f\"Total Number of Lines: {len(initial_data)}\")"
      ],
      "execution_count": null,
      "outputs": [
        {
          "output_type": "stream",
          "text": [
            "Total Number of Characters: 203334\n",
            "Total Number of Lines: 1103\n"
          ],
          "name": "stdout"
        }
      ]
    },
    {
      "cell_type": "code",
      "metadata": {
        "id": "FMBkEXf99vY6"
      },
      "source": [
        "tokenizer = tf.keras.preprocessing.text.Tokenizer()"
      ],
      "execution_count": null,
      "outputs": []
    },
    {
      "cell_type": "code",
      "metadata": {
        "id": "tRQAIl2v1-gq"
      },
      "source": [
        "tokenizer.fit_on_texts(initial_data)\n",
        "word_index = tokenizer.word_index\n",
        "word_count = len(word_index) + 1"
      ],
      "execution_count": null,
      "outputs": []
    },
    {
      "cell_type": "code",
      "metadata": {
        "colab": {
          "base_uri": "https://localhost:8080/"
        },
        "id": "HzOFLqb-2aB8",
        "outputId": "06b18c07-64d5-402c-90ef-6cd350e2b3af"
      },
      "source": [
        "print(word_index)"
      ],
      "execution_count": null,
      "outputs": [
        {
          "output_type": "stream",
          "text": [
            "{'the': 1, 'and': 2, 'to': 3, 'of': 4, 'a': 5, 'i': 6, 'was': 7, 'you': 8, 'in': 9, 'he': 10, 'it': 11, 'her': 12, 'they': 13, 'she': 14, 'that': 15, 'dorothy': 16, 'said': 17, 'as': 18, 'for': 19, 'so': 20, 'but': 21, 'with': 22, 'had': 23, 'is': 24, 'at': 25, 'all': 26, 'not': 27, 'them': 28, 'scarecrow': 29, 'his': 30, 'were': 31, 'me': 32, 'my': 33, 'him': 34, 'be': 35, 'woodman': 36, 'lion': 37, 'have': 38, 'when': 39, 'on': 40, 'will': 41, 'oz': 42, 'we': 43, 'this': 44, 'little': 45, 'great': 46, 'tin': 47, 'if': 48, 'are': 49, 'do': 50, 'there': 51, 'then': 52, 'one': 53, 'from': 54, 'witch': 55, 'could': 56, 'who': 57, 'asked': 58, 'would': 59, 'no': 60, 'out': 61, 'up': 62, 'green': 63, 'came': 64, 'their': 65, 'good': 66, 'back': 67, 'see': 68, 'down': 69, 'girl': 70, 'over': 71, 'toto': 72, 'head': 73, 'am': 74, 'by': 75, 'made': 76, 'what': 77, 'again': 78, 'upon': 79, 'get': 80, 'very': 81, 'where': 82, 'shall': 83, 'now': 84, 'did': 85, 'city': 86, 'into': 87, 'answered': 88, 'must': 89, 'can': 90, 'man': 91, 'go': 92, 'after': 93, 'wicked': 94, 'before': 95, 'how': 96, 'your': 97, 'heart': 98, 'away': 99, 'well': 100, 'come': 101, 'which': 102, 'country': 103, 'us': 104, 'long': 105, 'way': 106, 'like': 107, 'looked': 108, 'been': 109, 'room': 110, 'until': 111, 'people': 112, 'emerald': 113, 'never': 114, 'saw': 115, 'through': 116, 'should': 117, 'brains': 118, 'know': 119, 'once': 120, 'thought': 121, 'kansas': 122, 'replied': 123, 'eyes': 124, 'many': 125, 'big': 126, 'first': 127, 'than': 128, 'only': 129, 'make': 130, 'other': 131, 'found': 132, 'about': 133, 'walked': 134, 'ever': 135, 'forest': 136, 'any': 137, 'soon': 138, 'while': 139, 'much': 140, 'just': 141, 'road': 142, 'time': 143, 'went': 144, 'or': 145, 'around': 146, 'why': 147, 'monkeys': 148, 'here': 149, 'give': 150, 'an': 151, 'these': 152, 'oh': 153, 'think': 154, 'day': 155, 'more': 156, 'beautiful': 157, 'has': 158, 'cannot': 159, 'help': 160, 'land': 161, 'arms': 162, 'air': 163, 'off': 164, 'old': 165, 'some': 166, 'wizard': 167, 'stood': 168, 'quite': 169, 'voice': 170, 'put': 171, 'trees': 172, 'house': 173, 'last': 174, 'woman': 175, 'shoes': 176, 'yellow': 177, 'friends': 178, 'find': 179, \"don't\": 180, 'carried': 181, 'its': 182, 'too': 183, 'gave': 184, 'took': 185, 'cap': 186, 'straw': 187, 'next': 188, 'throne': 189, 'winged': 190, 'nothing': 191, 'also': 192, 'our': 193, 'mice': 194, 'tree': 195, 'left': 196, 'morning': 197, 'along': 198, 'afraid': 199, 'tell': 200, 'knew': 201, 'winkies': 202, \"i'm\": 203, 'journey': 204, 'golden': 205, 'aunt': 206, 'three': 207, 'pretty': 208, 'carry': 209, 'silver': 210, 'cried': 211, 'began': 212, 'stuffed': 213, 'wish': 214, 'axe': 215, 'another': 216, 'sat': 217, 'terrible': 218, 'set': 219, 'himself': 220, 'sure': 221, 'courage': 222, 'small': 223, 'door': 224, 'side': 225, 'even': 226, 'told': 227, 'going': 228, 'fell': 229, 'seemed': 230, 'together': 231, 'west': 232, 'let': 233, 'keep': 234, 'flew': 235, 'every': 236, 'thing': 237, 'face': 238, 'indeed': 239, 'ask': 240, 'em': 241, 'far': 242, 'balloon': 243, 'being': 244, 'lay': 245, 'beside': 246, 'basket': 247, 'travelers': 248, 'soldier': 249, 'sun': 250, 'hard': 251, 'night': 252, 'fast': 253, 'hurt': 254, 'feet': 255, 'end': 256, 'water': 257, 'take': 258, 'beast': 259, 'king': 260, 'bed': 261, 'nor': 262, 'heard': 263, 'ran': 264, 'toward': 265, 'started': 266, 'flowers': 267, 'bye': 268, 'place': 269, 'course': 270, 'right': 271, 'cowardly': 272, 'palace': 273, 'castle': 274, 'called': 275, 'live': 276, 'work': 277, 'two': 278, 'returned': 279, 'may': 280, 'river': 281, 'grass': 282, 'everything': 283, \"dorothy's\": 284, 'still': 285, 'times': 286, 'near': 287, 'might': 288, 'always': 289, 'blue': 290, 'east': 291, 'because': 292, 'mind': 293, 'legs': 294, 'body': 295, 'really': 296, 'queen': 297, 'lived': 298, 'same': 299, 'strange': 300, 'passed': 301, 'became': 302, 'wonderful': 303, 'lovely': 304, 'munchkins': 305, 'done': 306, 'herself': 307, 'such': 308, 'behind': 309, 'each': 310, 'glad': 311, 'beasts': 312, 'four': 313, 'anything': 314, 'dog': 315, 'although': 316, 'most': 317, 'killed': 318, 'home': 319, 'kind': 320, 'carefully': 321, 'walking': 322, 'those': 323, 'reached': 324, 'seen': 325, 'look': 326, 'lost': 327, 'white': 328, 'life': 329, 'yes': 330, 'cut': 331, 'world': 332, 'greatly': 333, 'new': 334, 'send': 335, 'want': 336, 'full': 337, 'glinda': 338, 'china': 339, 'looking': 340, 'dark': 341, 'running': 342, 'painted': 343, 'top': 344, 'few': 345, 'got': 346, 'asleep': 347, 'heads': 348, 'myself': 349, 'rest': 350, 'brick': 351, 'branches': 352, 'short': 353, 'own': 354, 'say': 355, 'pole': 356, 'call': 357, 'oil': 358, 'neck': 359, 'wall': 360, 'gate': 361, 'uncle': 362, 'middle': 363, 'gray': 364, 'low': 365, 'sharp': 366, 'south': 367, 'turned': 368, \"i'll\": 369, 'nearly': 370, 'followed': 371, 'dressed': 372, 'cross': 373, 'surprise': 374, 'things': 375, 'certainly': 376, \"'\": 377, 'kill': 378, 'happy': 379, 'others': 380, 'silk': 381, 'floor': 382, 'ground': 383, 'cyclone': 384, 'enough': 385, 'color': 386, 'kept': 387, 'caught': 388, 'felt': 389, 'lying': 390, 'child': 391, 'among': 392, 'farther': 393, 'having': 394, 'dear': 395, 'hands': 396, 'inquired': 397, 'charm': 398, 'desert': 399, 'use': 400, 'moment': 401, 'sorry': 402, 'pleased': 403, 'try': 404, 'sleep': 405, 'joints': 406, 'suppose': 407, 'poor': 408, 'fire': 409, 'gates': 410, 'power': 411, 'henry': 412, 'corner': 413, 'led': 414, 'spoke': 415, 'north': 416, 'close': 417, 'under': 418, 'frightened': 419, 'easily': 420, 'opened': 421, 'years': 422, 'continued': 423, 'munchkin': 424, 'friend': 425, 'powerful': 426, 'witches': 427, 'lady': 428, 'tears': 429, 'walk': 430, 'gone': 431, 'feel': 432, 'ready': 433, 'pass': 434, 'tired': 435, 'mouth': 436, 'thank': 437, 'anyone': 438, 'grew': 439, 'remarked': 440, 'declared': 441, 'part': 442, 'exclaimed': 443, 'guardian': 444, 'strangers': 445, 'hill': 446, 'farmer': 447, 'wonder': 448, 'however': 449, 'run': 450, 'across': 451, 'pieces': 452, 'stopped': 453, 'bright': 454, 'birds': 455, 'men': 456, 'standing': 457, 'dead': 458, 'sent': 459, 'emeralds': 460, 'surprised': 461, 'several': 462, 'better': 463, 'high': 464, 'clothes': 465, 'crows': 466, 'both': 467, 'something': 468, 'thick': 469, 'best': 470, 'leg': 471, 'return': 472, 'coward': 473, 'without': 474, 'raft': 475, 'princess': 476, 'bowed': 477, 'coming': 478, 'open': 479, 'happened': 480, 'met': 481, 'cry': 482, 'covered': 483, 'rather': 484, 'free': 485, 'love': 486, 'true': 487, 'picked': 488, 'harm': 489, 'ate': 490, 'stork': 491, 'brought': 492, 'spectacles': 493, 'except': 494, 'hole': 495, 'sky': 496, 'nose': 497, 'strong': 498, 'fall': 499, 'foot': 500, 'wood': 501, 'therefore': 502, 'loud': 503, 'dried': 504, 'wear': 505, 'story': 506, 'alone': 507, 'surely': 508, 'tail': 509, 'tried': 510, 'able': 511, 'eat': 512, 'please': 513, 'leave': 514, 'thinking': 515, 'seeing': 516, 'since': 517, 'built': 518, 'entered': 519, 'chopped': 520, 'creature': 521, 'need': 522, 'care': 523, 'promised': 524, 'wild': 525, 'roar': 526, 'angry': 527, \"isn't\": 528, 'unhappy': 529, 'fierce': 530, 'longer': 531, 'slaves': 532, 'sight': 533, 'truck': 534, 'fear': 535, 'wolves': 536, 'command': 537, 'rule': 538, 'melted': 539, 'ladder': 540, 'edge': 541, 'red': 542, 'ears': 543, 'hair': 544, 'badly': 545, 'slowly': 546, 'wait': 547, 'bring': 548, 'used': 549, 'wore': 550, 'quadlings': 551, 'dare': 552, 'bread': 553, 'helped': 554, 'bad': 555, 'fields': 556, 'large': 557, 'everyone': 558, 'houses': 559, 'besides': 560, 'days': 561, 'queer': 562, 'speak': 563, \"can't\": 564, 'matter': 565, 'shape': 566, 'yourself': 567, 'hope': 568, 'rusted': 569, 'thanked': 570, 'added': 571, 'bit': 572, 'living': 573, 'fight': 574, 'safely': 575, 'heavy': 576, 'field': 577, 'whiskers': 578, 'ball': 579, 'bees': 580, 'band': 581, 'cupboard': 582, 'wind': 583, 'taken': 584, 'laughed': 585, 'worked': 586, 'till': 587, 'joy': 588, 'anxiously': 589, 'danger': 590, 'jumped': 591, 'climbed': 592, 'shook': 593, 'soft': 594, 'bigger': 595, 'rich': 596, 'between': 597, 'themselves': 598, 'saying': 599, 'answer': 600, 'believe': 601, 'none': 602, 'perhaps': 603, 'whether': 604, 'magic': 605, 'wished': 606, 'filled': 607, 'sitting': 608, 'fruit': 609, 'wanted': 610, 'unless': 611, 'bade': 612, 'hear': 613, 'instead': 614, 'understand': 615, 'party': 616, 'broken': 617, 'finished': 618, 'crow': 619, 'decided': 620, 'hold': 621, 'oiled': 622, 'against': 623, 'enemy': 624, 'bite': 625, 'forward': 626, 'animals': 627, 'bottom': 628, 'kalidahs': 629, 'obey': 630, 'destroy': 631, 'rooms': 632, 'wings': 633, 'leader': 634, 'monkey': 635, 'quelala': 636, 'humbug': 637, 'everywhere': 638, 'young': 639, 'black': 640, 'suddenly': 641, 'neither': 642, 'tall': 643, 'deep': 644, 'held': 645, 'proud': 646, 'anxious': 647, 'kissed': 648, 'forehead': 649, 'mark': 650, 'breakfast': 651, 'dress': 652, 'clean': 653, 'finally': 654, 'possible': 655, 'nuts': 656, 'watched': 657, 'slept': 658, 'cornfield': 659, 'earnestly': 660, 'sadly': 661, 'straight': 662, 'eye': 663, \"didn't\": 664, 'fastened': 665, 'sad': 666, 'cottage': 667, 'leaves': 668, 'waiting': 669, 'rust': 670, 'rolled': 671, 'cow': 672, 'known': 673, 'does': 674, 'companions': 675, 'plenty': 676, \"lion's\": 677, 'brave': 678, 'tear': 679, \"woodman's\": 680, 'ditch': 681, 'flying': 682, 'yet': 683, 'forever': 684, 'trouble': 685, 'poppies': 686, 'given': 687, 'mouse': 688, 'promise': 689, 'wishes': 690, 'wise': 691, 'tomorrow': 692, 'seek': 693, 'treated': 694, 'wife': 695, 'miles': 696, 'table': 697, 'hand': 698, 'whenever': 699, 'laugh': 700, 'saved': 701, 'quick': 702, 'gently': 703, 'hour': 704, 'lonely': 705, 'grateful': 706, 'grown': 707, 'looks': 708, 'round': 709, 'bow': 710, 'expected': 711, 'making': 712, 'ruled': 713, 'words': 714, 'name': 715, 'exactly': 716, \"won't\": 717, 'paved': 718, 'bark': 719, 'gathered': 720, 'tied': 721, 'show': 722, 'within': 723, 'kindly': 724, 'supper': 725, 'fine': 726, 'reach': 727, 'thoughtfully': 728, 'stuck': 729, 'light': 730, \"doesn't\": 731, 'stepped': 732, 'flesh': 733, 'almost': 734, \"i've\": 735, 'move': 736, 'holding': 737, 'stand': 738, 'woods': 739, 'greatest': 740, 'animal': 741, 'beat': 742, 'claws': 743, 'careful': 744, 'seized': 745, 'step': 746, 'distance': 747, 'rocks': 748, 'minute': 749, 'swiftly': 750, 'start': 751, 'chair': 752, 'saving': 753, 'biggest': 754, 'order': 755, 'inside': 756, 'grant': 757, 'hot': 758, 'powers': 759, 'lo': 760, 'tinsmiths': 761, \"scarecrow's\": 762, 'gold': 763, 'grandfather': 764, 'word': 765, 'breast': 766, 'ruler': 767, 'milkmaid': 768, 'midst': 769, \"farmer's\": 770, 'walls': 771, 'broad': 772, 'directions': 773, 'rough': 774, 'played': 775, 'loved': 776, 'horses': 777, 'dropped': 778, 'threw': 779, 'rose': 780, 'loudly': 781, 'waited': 782, 'dashed': 783, 'spite': 784, 'awakened': 785, 'sunshine': 786, 'window': 787, 'sprang': 788, 'dry': 789, 'hats': 790, 'above': 791, 'sweet': 792, 'bondage': 793, 'rested': 794, 'pointed': 795, 'fallen': 796, 'lives': 797, 'entirely': 798, 'yours': 799, 'placed': 800, 'immediately': 801, 'sometimes': 802, 'person': 803, 'shining': 804, 'friendly': 805, 'growl': 806, 'spread': 807, 'taking': 808, 'drink': 809, 'fitted': 810, 'locked': 811, 'key': 812, 'shone': 813, 'fences': 814, 'laughing': 815, 'boq': 816, 'pulled': 817, 'stop': 818, 'fence': 819, 'corn': 820, 'perched': 821, 'figure': 822, 'presently': 823, 'lifted': 824, 'stretched': 825, 'fool': 826, 'often': 827, \"it's\": 828, 'second': 829, 'agreed': 830, 'showed': 831, 'luck': 832, 'shut': 833, 'sound': 834, 'teeth': 835, 'easy': 836, 'allow': 837, 'company': 838, 'marry': 839, 'become': 840, 'brightly': 841, 'during': 842, 'nearer': 843, 'bear': 844, 'protect': 845, 'struck': 846, \"that's\": 847, 'seems': 848, 'makes': 849, 'tigers': 850, 'jaws': 851, 'wrong': 852, 'food': 853, 'climb': 854, 'fly': 855, 'shot': 856, 'dreadful': 857, 'chop': 858, 'front': 859, 'pushed': 860, 'alive': 861, 'ugly': 862, 'pins': 863, 'pull': 864, 'twisted': 865, 'kindness': 866, 'sit': 867, 'spot': 868, 'fresh': 869, 'wildcat': 870, 'comrades': 871, 'knocked': 872, 'sorrowfully': 873, 'bell': 874, 'box': 875, 'message': 876, 'blew': 877, 'whistle': 878, 'row': 879, 'spider': 880, 'telling': 881, 'monster': 882, 'destroyed': 883, 'minutes': 884, 'gayelette': 885, 'rock': 886, 'build': 887, 'roof': 888, 'trap': 889, 'paint': 890, 'else': 891, 'boots': 892, 'growing': 893, 'merrily': 894, 'funny': 895, 'screamed': 896, 'follow': 897, 'center': 898, 'raised': 899, 'higher': 900, 'tipped': 901, 'barking': 902, 'sticking': 903, 'wondered': 904, 'breath': 905, 'noticed': 906, 'brook': 907, 'eagerly': 908, 'moved': 909, 'hung': 910, 'shoulders': 911, 'polished': 912, 'welcome': 913, 'sorceress': 914, 'ago': 915, 'wizards': 916, 'explained': 917, 'shaking': 918, 'third': 919, 'hearted': 920, 'pleasant': 921, 'kiss': 922, 'barked': 923, 'shelf': 924, 'delicious': 925, 'hanging': 926, 'worn': 927, 'fit': 928, 'beyond': 929, 'means': 930, 'five': 931, 'watching': 932, 'soundly': 933, 'curiosity': 934, 'gravely': 935, 'places': 936, 'worried': 937, 'turn': 938, 'leaned': 939, 'gazed': 940, 'feeling': 941, 'scare': 942, 'obliged': 943, 'mishap': 944, 'fewer': 945, 'lucky': 946, 'dinner': 947, 'probably': 948, 'fellow': 949, 'arm': 950, 'stick': 951, 'touch': 952, 'stay': 953, 'clumsy': 954, 'seem': 955, 'lot': 956, 'spring': 957, 'scarcely': 958, 'meal': 959, 'groan': 960, 'steps': 961, 'sharply': 962, 'bent': 963, 'comrade': 964, 'empty': 965, 'died': 966, 'harder': 967, 'tinsmith': 968, 'interested': 969, \"witch's\": 970, 'blow': 971, 'rushed': 972, 'ought': 973, \"he's\": 974, 'horse': 975, 'expect': 976, 'bears': 977, 'wept': 978, 'moments': 979, 'talk': 980, 'tiny': 981, 'fill': 982, 'wide': 983, \"haven't\": 984, 'shaggy': 985, 'mane': 986, 'jump': 987, 'gulf': 988, 'terribly': 989, 'reply': 990, 'crash': 991, 'creatures': 992, 'afternoon': 993, 'float': 994, 'eaten': 995, 'remembered': 996, 'save': 997, 'shore': 998, 'purple': 999, 'scent': 1000, 'deadly': 1001, 'poppy': 1002, 'beautifully': 1003, 'scampered': 1004, 'chase': 1005, 'smooth': 1006, 'getting': 1007, 'children': 1008, 'presence': 1009, 'form': 1010, 'dish': 1011, 'ordered': 1012, 'streets': 1013, 'marble': 1014, 'screen': 1015, 'desire': 1016, 'admit': 1017, 'velvet': 1018, 'lie': 1019, 'ceiling': 1020, 'promises': 1021, 'fiercely': 1022, 'yard': 1023, 'knows': 1024, 'forty': 1025, 'doing': 1026, 'reason': 1027, 'pe': 1028, 'zy': 1029, 'chattering': 1030, 'crowd': 1031, 'shoe': 1032, 'bucket': 1033, 'joyfully': 1034, 'clouds': 1035, 'visit': 1036, \"you're\": 1037, 'mended': 1038, 'tiger': 1039, 'hammer': 1040, 'cellar': 1041, 'path': 1042, 'doorway': 1043, 'flat': 1044, 'mass': 1045, 'burned': 1046, 'tops': 1047, 'washed': 1048, 'cheeks': 1049, 'laughter': 1050, 'solemn': 1051, 'dearly': 1052, 'direction': 1053, 'cows': 1054, 'hid': 1055, 'riding': 1056, 'baby': 1057, 'happen': 1058, 'crept': 1059, 'afterward': 1060, 'hours': 1061, 'resolved': 1062, 'calmly': 1063, 'closed': 1064, 'cold': 1065, 'heels': 1066, 'beauty': 1067, 'patches': 1068, 'fruits': 1069, 'gorgeous': 1070, 'sang': 1071, 'sparkling': 1072, 'older': 1073, 'sweetly': 1074, 'hat': 1075, 'gown': 1076, 'glistened': 1077, 'diamonds': 1078, 'roll': 1079, 'wrinkles': 1080, 'drew': 1081, 'whispered': 1082, 'listened': 1083, 'speech': 1084, 'mean': 1085, 'evidently': 1086, 'mistake': 1087, 'whatever': 1088, 'slave': 1089, 'gracious': 1090, 'real': 1091, 'half': 1092, 'civilized': 1093, 'silently': 1094, 'quickly': 1095, 'dust': 1096, 'worry': 1097, 'weep': 1098, 'written': 1099, 'touched': 1100, 'hungry': 1101, 'pail': 1102, 'clear': 1103, 'faded': 1104, 'pink': 1105, 'cloth': 1106, 'belonged': 1107, 'bricks': 1108, 'sides': 1109, 'grain': 1110, 'dome': 1111, 'dancing': 1112, 'hearty': 1113, 'chance': 1114, 'dangerous': 1115, 'wink': 1116, 'nodded': 1117, 'politely': 1118, 'puzzled': 1119, 'worse': 1120, 'truly': 1121, 'stumbled': 1122, 'holes': 1123, 'length': 1124, 'pick': 1125, 'joined': 1126, 'noon': 1127, 'offered': 1128, 'piece': 1129, \"aren't\": 1130, 'deal': 1131, 'fun': 1132, 'flock': 1133, 'uncomfortable': 1134, 'daylight': 1135, 'wherever': 1136, 'managed': 1137, 'awoke': 1138, 'chasing': 1139, 'timidly': 1140, 'discovered': 1141, 'perfectly': 1142, 'year': 1143, 'born': 1144, 'remain': 1145, 'prevent': 1146, 'slipped': 1147, 'maiden': 1148, 'needed': 1149, 'loss': 1150, 'earth': 1151, 'bounded': 1152, 'paw': 1153, 'ashamed': 1154, 'patted': 1155, 'astonished': 1156, 'tender': 1157, 'roared': 1158, 'scared': 1159, 'tip': 1160, 'sorrow': 1161, 'simply': 1162, 'forget': 1163, 'tightly': 1164, 'serve': 1165, 'pile': 1166, 'feared': 1167, 'hardly': 1168, 'crossed': 1169, 'falling': 1170, 'lions': 1171, 'giving': 1172, 'safe': 1173, 'gloomy': 1174, 'wondering': 1175, 'stopping': 1176, 'ride': 1177, 'flowing': 1178, 'busy': 1179, 'current': 1180, 'swept': 1181, 'apron': 1182, 'swim': 1183, 'past': 1184, 'bank': 1185, 'bird': 1186, 'scarlet': 1187, 'dazzled': 1188, 'already': 1189, 'surrounded': 1190, 'bend': 1191, 'turning': 1192, 'beg': 1193, 'escape': 1194, 'slightest': 1195, 'willing': 1196, 'thousands': 1197, 'string': 1198, 'trunk': 1199, 'draw': 1200, 'meet': 1201, 'death': 1202, 'fond': 1203, 'frighten': 1204, 'dangers': 1205, 'farmhouse': 1206, 'boldly': 1207, 'opening': 1208, 'elephant': 1209, 'quiet': 1210, 'brighter': 1211, 'studded': 1212, 'foolish': 1213, 'rules': 1214, 'glasses': 1215, 'pair': 1216, 'contented': 1217, 'wearing': 1218, 'wipe': 1219, 'comfortable': 1220, 'satin': 1221, 'gowns': 1222, 'ribbon': 1223, \"toto's\": 1224, 'willingly': 1225, 'remember': 1226, 'jewels': 1227, 'loving': 1228, 'unlocked': 1229, 'pure': 1230, 'faces': 1231, 'wolf': 1232, 'sting': 1233, 'heaps': 1234, 'marched': 1235, 'owned': 1236, 'harness': 1237, 'iron': 1238, 'kitchen': 1239, 'meekly': 1240, 'courtyard': 1241, 'traveled': 1242, 'handle': 1243, 'meeting': 1244, 'wiped': 1245, 'suggested': 1246, 'handsome': 1247, 'ruby': 1248, 'wedding': 1249, 'fortune': 1250, 'owner': 1251, 'news': 1252, 'tiresome': 1253, 'vexed': 1254, 'grieved': 1255, 'circus': 1256, 'ropes': 1257, 'needles': 1258, 'square': 1259, 'gas': 1260, 'strip': 1261, 'belong': 1262, 'branch': 1263, 'strangest': 1264, 'mr': 1265, 'joker': 1266, 'clown': 1267, 'bridges': 1268, 'prairies': 1269, 'dishes': 1270, 'chairs': 1271, 'case': 1272, 'arose': 1273, 'mighty': 1274, 'building': 1275, 'prairie': 1276, 'broke': 1277, 'sweep': 1278, 'cracks': 1279, 'changed': 1280, 'sparkle': 1281, 'sober': 1282, 'lips': 1283, 'thin': 1284, 'smiled': 1285, 'startled': 1286, \"child's\": 1287, 'beard': 1288, 'either': 1289, 'wee': 1290, 'doorstep': 1291, 'usual': 1292, 'whistling': 1293, 'whirled': 1294, 'pressure': 1295, 'remained': 1296, 'howled': 1297, 'horribly': 1298, 'keeping': 1299, 'fright': 1300, 'swaying': 1301, 'wailing': 1302, 'sudden': 1303, 'dismally': 1304, 'moving': 1305, 'amazement': 1306, 'sights': 1307, 'stately': 1308, 'banks': 1309, 'brilliant': 1310, 'fluttered': 1311, 'rushing': 1312, 'group': 1313, 'point': 1314, 'stars': 1315, 'shade': 1316, 'setting': 1317, 'calling': 1318, 'harmless': 1319, 'pointing': 1320, 'toes': 1321, 'dismay': 1322, 'swift': 1323, 'facing': 1324, 'mistaken': 1325, 'dwelt': 1326, 'mentioned': 1327, 'sorceresses': 1328, 'question': 1329, 'disappeared': 1330, 'handed': 1331, 'slate': 1332, 'read': 1333, 'drying': 1334, 'arts': 1335, 'pleaded': 1336, 'begun': 1337, 'straightway': 1338, 'knowing': 1339, 'least': 1340, 'finding': 1341, 'peg': 1342, 'gingham': 1343, 'frock': 1344, 'sunbonnet': 1345, 'laying': 1346, 'wagged': 1347, 'ones': 1348, 'roads': 1349, 'whisked': 1350, 'raise': 1351, 'crops': 1352, 'destroying': 1353, 'favorite': 1354, 'evening': 1355, 'women': 1356, 'singing': 1357, 'loaded': 1358, 'greeted': 1359, 'whose': 1360, 'sheets': 1361, 'curled': 1362, 'bravely': 1363, 'ripe': 1364, 'scarecrows': 1365, 'awfully': 1366, 'stays': 1367, 'gratefully': 1368, 'nest': 1369, 'secret': 1370, 'difficult': 1371, 'leaving': 1372, 'farms': 1373, 'roadside': 1374, 'eating': 1375, 'homes': 1376, 'blood': 1377, 'mine': 1378, 'fortunate': 1379, \"'they\": 1380, \"'i\": 1381, 'forced': 1382, 'lead': 1383, 'important': 1384, 'shoulder': 1385, 'manner': 1386, 'sense': 1387, 'harmed': 1388, 'comforted': 1389, 'worth': 1390, 'untilled': 1391, 'goes': 1392, 'leads': 1393, 'stumbling': 1394, 'logs': 1395, 'patiently': 1396, 'search': 1397, 'bother': 1398, 'properly': 1399, 'drank': 1400, 'bathed': 1401, 'thankful': 1402, 'imagine': 1403, 'stir': 1404, 'freely': 1405, 'sigh': 1406, 'comfort': 1407, 'appeared': 1408, 'join': 1409, 'heartily': 1410, 'entire': 1411, 'cheerfully': 1412, 'following': 1413, 'father': 1414, 'girls': 1415, 'earn': 1416, 'sheep': 1417, 'enchanted': 1418, 'chopping': 1419, 'replaced': 1420, 'slip': 1421, 'cruel': 1422, 'married': 1423, 'forgot': 1424, 'undergo': 1425, 'fed': 1426, 'hidden': 1427, 'boy': 1428, 'ourselves': 1429, 'fearing': 1430, 'retorted': 1431, 'shame': 1432, 'curious': 1433, 'naturally': 1434, 'learned': 1435, 'elephants': 1436, 'wiping': 1437, 'disease': 1438, 'braver': 1439, 'ease': 1440, 'adventure': 1441, 'peace': 1442, 'beetle': 1443, 'hinges': 1444, 'crying': 1445, 'thereafter': 1446, 'hearts': 1447, 'covering': 1448, 'splendid': 1449, 'less': 1450, 'deer': 1451, 'begged': 1452, 'thoughtful': 1453, 'awkward': 1454, 'rippling': 1455, 'steep': 1456, 'faintest': 1457, 'idea': 1458, 'dented': 1459, 'below': 1460, 'landed': 1461, 'panted': 1462, 'bodies': 1463, 'consider': 1464, 'rate': 1465, 'beginning': 1466, 'tremble': 1467, 'instant': 1468, 'snarling': 1469, 'drawing': 1470, 'advanced': 1471, 'dotted': 1472, 'delightful': 1473, 'riverbank': 1474, 'dreamed': 1475, 'refreshed': 1476, 'wooden': 1477, 'poles': 1478, 'push': 1479, 'fortunately': 1480, 'stream': 1481, 'drawn': 1482, 'plan': 1483, 'cheer': 1484, 'flower': 1485, \"wasn't\": 1486, 'hugged': 1487, 'de': 1488, 'colored': 1489, 'helpless': 1490, 'hurry': 1491, 'killing': 1492, 'mistress': 1493, 'seat': 1494, 'sleeping': 1495, 'carpet': 1496, 'breathing': 1497, 'laid': 1498, 'showing': 1499, 'rows': 1500, 'squeaky': 1501, 'happens': 1502, 'majesty': 1503, 'hereafter': 1504, 'chorus': 1505, 'delight': 1506, 'underneath': 1507, 'bitten': 1508, 'trying': 1509, 'treat': 1510, 'sized': 1511, 'harnessed': 1512, 'though': 1513, 'warmly': 1514, 'shades': 1515, 'unable': 1516, 'permitted': 1517, 'cat': 1518, 'needs': 1519, 'plate': 1520, 'somewhere': 1521, 'task': 1522, 'usually': 1523, 'speaking': 1524, 'porridge': 1525, 'nice': 1526, 'enjoyed': 1527, 'oats': 1528, 'guarded': 1529, 'glow': 1530, 'brilliancy': 1531, 'swung': 1532, 'arched': 1533, 'size': 1534, 'greenish': 1535, 'tint': 1536, 'idle': 1537, 'errand': 1538, 'wisely': 1539, 'demand': 1540, 'brightness': 1541, 'protected': 1542, 'blocks': 1543, 'closely': 1544, 'skins': 1545, 'entering': 1546, 'enter': 1547, 'shown': 1548, 'carved': 1549, 'books': 1550, 'wasted': 1551, 'ladies': 1552, 'curiously': 1553, 'rang': 1554, 'truth': 1555, 'winked': 1556, 'pay': 1557, 'gets': 1558, 'disappointed': 1559, 'admitted': 1560, 'bestow': 1561, 'wisest': 1562, 'weight': 1563, 'imagined': 1564, 'pray': 1565, 'demanded': 1566, 'request': 1567, 'forms': 1568, 'bidding': 1569, 'proof': 1570, 'furiously': 1571, 'anybody': 1572, 'different': 1573, 'daisies': 1574, 'buttercups': 1575, 'watch': 1576, 'awake': 1577, 'heap': 1578, 'twice': 1579, 'peck': 1580, 'battle': 1581, 'rise': 1582, 'rapidly': 1583, 'stings': 1584, 'scattered': 1585, 'coal': 1586, 'dozen': 1587, 'towards': 1588, 'failed': 1589, 'act': 1590, 'rubies': 1591, 'ep': 1592, 'pep': 1593, 'kak': 1594, 'ke': 1595, 'hil': 1596, 'hol': 1597, 'hel': 1598, 'ziz': 1599, 'zuz': 1600, 'zik': 1601, 'commands': 1602, 'obeyed': 1603, 'noise': 1604, 'battered': 1605, 'stout': 1606, 'rope': 1607, 'greater': 1608, 'ended': 1609, 'harshly': 1610, 'amuse': 1611, 'drive': 1612, 'talked': 1613, 'troubles': 1614, 'threatened': 1615, 'umbrella': 1616, 'strike': 1617, 'bitterly': 1618, 'trick': 1619, 'bar': 1620, 'invisible': 1621, 'success': 1622, 'instantly': 1623, 'melt': 1624, 'brown': 1625, 'picking': 1626, 'chose': 1627, 'spent': 1628, 'rescue': 1629, 'blade': 1630, 'tenderly': 1631, 'soldering': 1632, 'tossed': 1633, 'solid': 1634, 'spoken': 1635, 'thanking': 1636, 'claim': 1637, 'precious': 1638, 'rising': 1639, 'anywhere': 1640, 'mischief': 1641, 'happily': 1642, 'master': 1643, 'manly': 1644, 'ruined': 1645, 'condition': 1646, 'kingdom': 1647, 'flight': 1648, 'guard': 1649, 'receive': 1650, 'nine': 1651, \"o'clock\": 1652, 'promptly': 1653, 'common': 1654, 'itself': 1655, 'o': 1656, 'angrily': 1657, 'coat': 1658, 'thread': 1659, 'ventriloquist': 1660, 'false': 1661, 'poured': 1662, 'omaha': 1663, 'kitten': 1664, \"couldn't\": 1665, 'gradually': 1666, 'experience': 1667, 'sort': 1668, 'spirits': 1669, 'forgive': 1670, 'thoughts': 1671, 'brain': 1672, 'proper': 1673, 'bran': 1674, 'shaken': 1675, 'thoroughly': 1676, 'space': 1677, 'bulged': 1678, 'neatly': 1679, 'patch': 1680, 'announced': 1681, 'reaching': 1682, 'sniffed': 1683, 'rattling': 1684, 'gladly': 1685, 'satisfied': 1686, 'lies': 1687, 'glue': 1688, 'sew': 1689, 'strips': 1690, 'bag': 1691, 'shouted': 1692, 'towel': 1693, 'jeweled': 1694, 'bowing': 1695, 'purpose': 1696, 'service': 1697, 'due': 1698, 'natured': 1699, 'minds': 1700, 'waist': 1701, 'spots': 1702, 'knee': 1703, 'clowns': 1704, 'milking': 1705, 'elbow': 1706, 'break': 1707, 'respect': 1708, 'pleasanter': 1709, 'church': 1710, 'climbing': 1711, 'growling': 1712, 'hundreds': 1713, 'proudly': 1714, 'kinds': 1715, 'lumber': 1716, 'wagon': 1717, 'contained': 1718, 'rusty': 1719, 'cookstove': 1720, 'beds': 1721, 'garret': 1722, 'dug': 1723, 'family': 1724, 'whirlwinds': 1725, 'crush': 1726, 'baked': 1727, 'plowed': 1728, 'blades': 1729, 'blistered': 1730, 'rains': 1731, 'dull': 1732, 'gaunt': 1733, 'orphan': 1734, 'scream': 1735, 'press': 1736, 'merry': 1737, 'stern': 1738, 'rarely': 1739, 'surroundings': 1740, 'silky': 1741, 'twinkled': 1742, 'today': 1743, 'playing': 1744, 'grayer': 1745, 'washing': 1746, 'wail': 1747, 'waves': 1748, 'storm': 1749, 'ripples': 1750, \"there's\": 1751, 'stock': 1752, 'sheds': 1753, 'glance': 1754, 'halfway': 1755, 'shriek': 1756, 'footing': 1757, 'winds': 1758, 'exact': 1759, 'generally': 1760, 'feather': 1761, 'whirls': 1762, 'rocked': 1763, 'cradle': 1764, 'ear': 1765, 'dragged': 1766, 'closing': 1767, 'accidents': 1768, 'shrieked': 1769, 'deaf': 1770, 'worrying': 1771, 'future': 1772, 'crawled': 1773, 'shock': 1774, 'severe': 1775, 'jar': 1776, 'catch': 1777, 'whined': 1778, 'flooding': 1779, 'marvelous': 1780, 'greensward': 1781, 'bearing': 1782, 'luscious': 1783, 'rare': 1784, 'plumage': 1785, 'bushes': 1786, 'murmuring': 1787, 'queerest': 1788, 'folk': 1789, 'fact': 1790, 'age': 1791, 'oddly': 1792, 'bells': 1793, 'brims': 1794, 'tinkled': 1795, \"woman's\": 1796, 'pleats': 1797, 'sprinkled': 1798, 'beards': 1799, 'doubtless': 1800, 'stiffly': 1801, 'paused': 1802, 'noble': 1803, 'possibly': 1804, 'innocent': 1805, 'hesitation': 1806, 'anyway': 1807, 'block': 1808, 'beam': 1809, 'shod': 1810, 'clasping': 1811, 'favor': 1812, 'messenger': 1813, \"moment's\": 1814, 'accounts': 1815, 'countries': 1816, 'magicians': 1817, 'amongst': 1818, 'sinking': 1819, 'whisper': 1820, 'shout': 1821, 'connected': 1822, 'surrounds': 1823, 'sob': 1824, 'grieve': 1825, 'handkerchiefs': 1826, 'balanced': 1827, 'counted': 1828, 'chalk': 1829, 'marks': 1830, 'injure': 1831, 'miss': 1832, 'nod': 1833, 'heel': 1834, 'disappear': 1835, 'butter': 1836, 'cool': 1837, 'checks': 1838, 'somewhat': 1839, 'washings': 1840, 'meant': 1841, 'leather': 1842, 'pocket': 1843, 'trotting': 1844, 'soberly': 1845, 'nearby': 1846, 'briskly': 1847, 'tinkling': 1848, 'neat': 1849, 'dainty': 1850, 'vegetables': 1851, 'abundance': 1852, 'farmers': 1853, 'odd': 1854, 'dwellings': 1855, 'larger': 1856, 'lawn': 1857, 'fiddlers': 1858, 'pies': 1859, 'cakes': 1860, 'invited': 1861, 'richest': 1862, 'celebrate': 1863, 'freedom': 1864, 'settee': 1865, 'dance': 1866, 'checked': 1867, 'smoothing': 1868, 'ordinary': 1869, 'rug': 1870, 'crowed': 1871, 'amused': 1872, 'business': 1873, 'chin': 1874, 'sack': 1875, 'represent': 1876, 'suit': 1877, 'stalks': 1878, 'husky': 1879, 'smile': 1880, 'tedious': 1881, 'sounded': 1882, 'yawned': 1883, 'confidentially': 1884, 'treads': 1885, 'sticks': 1886, 'pin': 1887, 'addition': 1888, 'smelled': 1889, 'suspected': 1890, 'rats': 1891, 'growled': 1892, 'unfriendly': 1893, 'bites': 1894, 'lighted': 1895, 'match': 1896, 'uneven': 1897, 'missing': 1898, 'altogether': 1899, 'ahead': 1900, 'cared': 1901, 'dismal': 1902, 'lonesome': 1903, 'refused': 1904, 'spoil': 1905, 'dreary': 1906, 'sighed': 1907, 'resting': 1908, 'reproachfully': 1909, 'yesterday': 1910, 'unknown': 1911, 'luckily': 1912, \"'how\": 1913, \"'never\": 1914, \"'now\": 1915, 'glimpse': 1916, \"'that's\": 1917, \"'blue\": 1918, \"'this\": 1919, \"'he\": 1920, \"'why\": 1921, 'deserted': 1922, 'hopped': 1923, \"'if\": 1924, 'stake': 1925, 'required': 1926, 'darkness': 1927, 'dogs': 1928, 'fairly': 1929, 'squirrels': 1930, 'wash': 1931, 'throat': 1932, 'inconvenient': 1933, 'ray': 1934, 'partly': 1935, 'uplifted': 1936, 'jointed': 1937, 'motionless': 1938, 'snap': 1939, 'groaning': 1940, 'softly': 1941, 'satisfaction': 1942, 'lowered': 1943, 'release': 1944, 'polite': 1945, 'wants': 1946, 'deeply': 1947, 'guess': 1948, 'shouldered': 1949, 'rain': 1950, 'cleared': 1951, 'passage': 1952, 'notice': 1953, 'son': 1954, 'sold': 1955, 'woodchopper': 1956, 'mother': 1957, 'money': 1958, 'lazy': 1959, 'cooking': 1960, 'housework': 1961, 'marriage': 1962, 'thereupon': 1963, 'misfortune': 1964, 'legged': 1965, 'chopper': 1966, 'action': 1967, 'angered': 1968, 'daunted': 1969, 'beaten': 1970, 'splitting': 1971, 'halves': 1972, 'fastening': 1973, 'alas': 1974, 'rainstorm': 1975, 'happiest': 1976, 'happiness': 1977, 'sounds': 1978, \"girl's\": 1979, 'dwells': 1980, 'spinning': 1981, 'impression': 1982, 'heedless': 1983, 'slapped': 1984, 'rubbed': 1985, 'hit': 1986, 'striking': 1987, 'whirl': 1988, 'blunted': 1989, 'scratched': 1990, 'shiver': 1991, 'meat': 1992, 'remarkably': 1993, 'biting': 1994, 'mystery': 1995, \"shouldn't\": 1996, 'begins': 1997, 'proves': 1998, 'unbearable': 1999, 'strides': 2000, 'approve': 2001, 'crushed': 2002, 'mar': 2003, 'crawling': 2004, 'regret': 2005, 'jaw': 2006, 'motions': 2007, 'relieve': 2008, 'lesson': 2009, 'bug': 2010, 'rusts': 2011, 'ant': 2012, 'toiling': 2013, 'unkind': 2014, 'guide': 2015, 'gives': 2016, \"needn't\": 2017, 'camp': 2018, 'dew': 2019, 'warmed': 2020, 'roast': 2021, 'tastes': 2022, 'peculiar': 2023, 'prefer': 2024, 'cooked': 2025, 'mention': 2026, 'padded': 2027, 'enabled': 2028, 'spark': 2029, 'burn': 2030, 'flames': 2031, 'cover': 2032, 'snug': 2033, 'warm': 2034, 'eventful': 2035, 'divided': 2036, 'jagged': 2037, 'despairingly': 2038, 'certain': 2039, 'measuring': 2040, 'attempt': 2041, 'crouched': 2042, 'leaps': 2043, 'add': 2044, 'discomfort': 2045, 'noises': 2046, 'depths': 2047, 'monstrous': 2048, 'leap': 2049, 'serious': 2050, 'suspect': 2051, 'bridge': 2052, 'horror': 2053, 'backward': 2054, 'remembering': 2055, 'carrying': 2056, 'brutes': 2057, 'relief': 2058, 'beating': 2059, 'ah': 2060, 'thinner': 2061, 'meadows': 2062, 'bordered': 2063, 'takes': 2064, 'industrious': 2065, 'untiring': 2066, 'cozy': 2067, 'breakfasted': 2068, 'peaches': 2069, 'plums': 2070, 'suffered': 2071, 'discouragements': 2072, 'sunny': 2073, 'beckon': 2074, 'steady': 2075, 'downstream': 2076, 'enchant': 2077, 'mud': 2078, 'clinging': 2079, 'floated': 2080, 'grassy': 2081, 'wistfully': 2082, \"water's\": 2083, 'drop': 2084, 'grabbed': 2085, 'tol': 2086, 'ri': 2087, 'gay': 2088, 'babies': 2089, 'listening': 2090, 'carpeted': 2091, 'blossoms': 2092, 'clusters': 2093, 'breathed': 2094, 'spicy': 2095, 'frail': 2096, 'meadow': 2097, 'odor': 2098, 'breathes': 2099, 'falls': 2100, 'sleeper': 2101, 'sleeps': 2102, 'die': 2103, 'smell': 2104, 'troubled': 2105, 'aroused': 2106, 'lap': 2107, 'huge': 2108, 'lift': 2109, 'dream': 2110, 'poison': 2111, 'breeze': 2112, 'waken': 2113, 'bounding': 2114, 'glowed': 2115, 'balls': 2116, \"beast's\": 2117, 'freed': 2118, 'indignantly': 2119, 'deed': 2120, 'manage': 2121, 'shrill': 2122, 'tight': 2123, 'clump': 2124, 'timid': 2125, 'creeping': 2126, 'repay': 2127, 'says': 2128, 'trust': 2129, 'attended': 2130, 'orders': 2131, 'riverside': 2132, 'limbs': 2133, 'pegs': 2134, 'wheels': 2135, 'arrive': 2136, 'woke': 2137, 'dignified': 2138, 'permit': 2139, 'introduce': 2140, 'curtsy': 2141, 'fasten': 2142, 'using': 2143, 'strings': 2144, 'thousand': 2145, 'hurriedly': 2146, 'stayed': 2147, 'heavily': 2148, 'breathe': 2149, 'poisonous': 2150, 'companion': 2151, 'rescued': 2152, 'unharnessed': 2153, 'assistance': 2154, 'lest': 2155, 'awaken': 2156, 'lain': 2157, 'fragrance': 2158, 'yawning': 2159, 'generously': 2160, 'fully': 2161, 'enjoying': 2162, 'rejoiced': 2163, 'doors': 2164, 'questions': 2165, 'clothing': 2166, 'peaked': 2167, 'starved': 2168, 'tame': 2169, 'wider': 2170, 'peep': 2171, 'couch': 2172, 'lets': 2173, 'sits': 2174, 'appears': 2175, 'fairy': 2176, 'brownie': 2177, 'pleases': 2178, 'collection': 2179, 'sizes': 2180, 'shapes': 2181, 'keeps': 2182, 'pot': 2183, 'likely': 2184, 'scrambled': 2185, 'eggs': 2186, 'disturbed': 2187, 'nearing': 2188, 'travels': 2189, 'glittered': 2190, 'button': 2191, 'silvery': 2192, 'tinkle': 2193, 'countless': 2194, 'clothed': 2195, 'skin': 2196, 'perplexity': 2197, 'reflections': 2198, 'honest': 2199, 'approach': 2200, 'dared': 2201, 'glory': 2202, 'blind': 2203, 'unlock': 2204, 'bands': 2205, 'chain': 2206, 'blinded': 2207, 'glare': 2208, 'portal': 2209, 'lined': 2210, 'pavement': 2211, 'glittering': 2212, 'panes': 2213, 'glass': 2214, 'rays': 2215, 'strangely': 2216, 'assorted': 2217, 'mothers': 2218, 'shops': 2219, 'street': 2220, 'candy': 2221, 'pop': 2222, 'sale': 2223, 'sorts': 2224, 'selling': 2225, 'lemonade': 2226, 'bought': 2227, 'paid': 2228, 'pennies': 2229, 'carts': 2230, 'prosperous': 2231, 'uniform': 2232, 'furniture': 2233, 'mat': 2234, 'seated': 2235, 'yourselves': 2236, 'audience': 2237, 'seven': 2238, 'passages': 2239, 'flights': 2240, 'stairs': 2241, 'sweetest': 2242, 'counterpane': 2243, 'fountain': 2244, 'spray': 2245, 'perfume': 2246, 'basin': 2247, 'windows': 2248, 'pictures': 2249, 'wardrobe': 2250, 'dresses': 2251, 'ring': 2252, 'lodged': 2253, 'politeness': 2254, 'stupidly': 2255, 'staring': 2256, 'weaving': 2257, 'web': 2258, 'force': 2259, 'habit': 2260, 'working': 2261, 'preferred': 2262, 'purred': 2263, 'fetch': 2264, 'prettiest': 2265, 'brocaded': 2266, 'hall': 2267, 'gentlemen': 2268, 'court': 2269, 'costumes': 2270, 'outside': 2271, 'signal': 2272, 'shaped': 2273, 'sparkled': 2274, 'gems': 2275, 'enormous': 2276, 'support': 2277, 'giant': 2278, 'steadily': 2279, 'awful': 2280, 'meek': 2281, 'dreadfully': 2282, 'queerly': 2283, 'weak': 2284, 'sobbed': 2285, 'dies': 2286, 'tremendously': 2287, 'gauze': 2288, 'locks': 2289, 'crown': 2290, 'prettily': 2291, 'stuffing': 2292, 'praying': 2293, 'dominions': 2294, 'favors': 2295, 'kills': 2296, 'earned': 2297, 'hoped': 2298, 'rhinoceros': 2299, 'slim': 2300, 'woolly': 2301, 'terror': 2302, 'gruffly': 2303, 'kindest': 2304, 'loudest': 2305, 'pretend': 2306, 'compel': 2307, 'mercy': 2308, 'glancing': 2309, 'glowing': 2310, 'gaze': 2311, 'accident': 2312, 'burning': 2313, 'heat': 2314, 'intense': 2315, 'singed': 2316, 'tremblingly': 2317, 'reality': 2318, 'gazing': 2319, 'interview': 2320, 'sharpened': 2321, 'grindstone': 2322, 'early': 2323, 'crowing': 2324, 'cock': 2325, 'cackling': 2326, 'hen': 2327, 'egg': 2328, 'officer': 2329, 'sets': 2330, 'fail': 2331, 'rougher': 2332, 'hillier': 2333, 'offer': 2334, 'telescope': 2335, 'pack': 2336, 'speed': 2337, \"wolf's\": 2338, 'weapon': 2339, 'traveling': 2340, 'angrier': 2341, 'darken': 2342, 'rage': 2343, 'forthwith': 2344, 'buzzing': 2345, 'swarm': 2346, 'commanded': 2347, 'scatter': 2348, 'hurting': 2349, 'stamped': 2350, 'tore': 2351, 'gnashed': 2352, 'spears': 2353, 'strap': 2354, 'plans': 2355, 'circle': 2356, 'whoever': 2357, 'fought': 2358, 'driven': 2359, 'exhausted': 2360, 'stinging': 2361, 'darkened': 2362, 'rumbling': 2363, 'immense': 2364, 'thickly': 2365, 'fingers': 2366, 'bundle': 2367, 'remaining': 2368, 'wound': 2369, 'coils': 2370, 'scratch': 2371, 'struggle': 2372, 'fate': 2373, 'hairy': 2374, 'grinning': 2375, 'motioning': 2376, 'evil': 2377, 'carries': 2378, 'tempted': 2379, 'simple': 2380, 'soul': 2381, 'severely': 2382, 'pots': 2383, 'kettles': 2384, 'chariot': 2385, 'bars': 2386, 'starve': 2387, 'imprisoned': 2388, 'constantly': 2389, 'bleed': 2390, 'whining': 2391, 'longing': 2392, 'steal': 2393, 'bath': 2394, 'dread': 2395, 'bathing': 2396, 'cunning': 2397, 'human': 2398, 'snatched': 2399, 'skinny': 2400, 'someday': 2401, 'wetting': 2402, 'shrink': 2403, 'actually': 2404, 'melting': 2405, 'sugar': 2406, 'despairing': 2407, 'deeds': 2408, 'shapeless': 2409, 'boards': 2410, 'mess': 2411, 'cleaned': 2412, 'prisoners': 2413, 'prison': 2414, 'rejoicing': 2415, 'cruelty': 2416, 'holiday': 2417, 'feasting': 2418, 'delighted': 2419, 'number': 2420, 'rocky': 2421, 'plain': 2422, 'shedding': 2423, 'plight': 2424, 'bringing': 2425, 'tools': 2426, 'baskets': 2427, 'straighten': 2428, 'dents': 2429, 'solder': 2430, 'mend': 2431, 'nights': 2432, 'hammering': 2433, 'twisting': 2434, 'bending': 2435, 'polishing': 2436, 'pounding': 2437, 'straightened': 2438, 'job': 2439, 'vain': 2440, 'rescuing': 2441, 'wet': 2442, 'mending': 2443, 'goldsmith': 2444, 'removed': 2445, 'burnished': 2446, 'whereupon': 2447, 'behold': 2448, 'reunited': 2449, 'clapping': 2450, 'determined': 2451, 'collar': 2452, 'presented': 2453, 'bracelet': 2454, 'headed': 2455, 'inlaid': 2456, 'ached': 2457, 'prepared': 2458, 'cheers': 2459, 'pathway': 2460, 'moon': 2461, 'smelling': 2462, 'cloud': 2463, 'sometime': 2464, 'grumble': 2465, 'whimper': 2466, 'tramping': 2467, 'butterfly': 2468, 'tongue': 2469, 'pattering': 2470, 'backs': 2471, 'plague': 2472, 'wearer': 2473, 'hurrying': 2474, 'lining': 2475, 'hello': 2476, 'flapping': 2477, 'sooner': 2478, 'intended': 2479, 'rode': 2480, 'gardens': 2481, 'tails': 2482, 'throwing': 2483, 'careless': 2484, 'stupid': 2485, 'mate': 2486, 'husband': 2487, 'manhood': 2488, 'hastened': 2489, \"gayelette's\": 2490, 'joke': 2491, 'costume': 2492, \"'swim\": 2493, \"'and\": 2494, 'spotted': 2495, 'spoiled': 2496, 'swam': 2497, 'silks': 2498, 'drown': 2499, 'spared': 2500, 'present': 2501, 'cost': 2502, 'whosoever': 2503, 'bride': 2504, 'enslave': 2505, 'rapid': 2506, 'ringing': 2507, 'fashion': 2508, 'sending': 2509, 'hardships': 2510, 'slavery': 2511, 'sleepless': 2512, 'gift': 2513, 'whiskered': 2514, 'later': 2515, 'closer': 2516, 'stillness': 2517, 'mortals': 2518, 'converse': 2519, 'trembled': 2520, \"you've\": 2521, \"shan't\": 2522, 'alarm': 2523, 'bald': 2524, 'wrinkled': 2525, 'raising': 2526, 'trembling': 2527, 'hush': 2528, 'overheard': 2529, 'supposed': 2530, 'tone': 2531, 'rubbing': 2532, 'wailed': 2533, 'sleeve': 2534, 'fooled': 2535, 'letting': 2536, 'subjects': 2537, 'bewilderment': 2538, 'tricks': 2539, 'chamber': 2540, 'rear': 2541, 'thicknesses': 2542, 'paper': 2543, 'wire': 2544, 'throw': 2545, 'deceive': 2546, 'mask': 2547, 'sewn': 2548, 'slats': 2549, 'cotton': 2550, 'tale': 2551, 'trained': 2552, 'imitate': 2553, 'mewed': 2554, 'pricked': 2555, 'balloonist': 2556, 'floating': 2557, 'abounding': 2558, 'metals': 2559, 'fears': 2560, 'magical': 2561, 'learning': 2562, 'brings': 2563, 'knowledge': 2564, 'magician': 2565, 'stuff': 2566, 'confidence': 2567, 'opinion': 2568, 'unhappiness': 2569, 'murmur': 2570, 'continue': 2571, 'meantime': 2572, 'guests': 2573, 'congratulate': 2574, 'liked': 2575, 'cheerful': 2576, 'rapped': 2577, 'engaged': 2578, 'uneasily': 2579, 'excuse': 2580, 'unfastened': 2581, 'emptied': 2582, 'measure': 2583, 'mixed': 2584, 'mixture': 2585, 'fulfillment': 2586, \"tinsmith's\": 2587, 'shears': 2588, 'chest': 2589, 'drawers': 2590, 'sawdust': 2591, 'account': 2592, 'bottle': 2593, 'contents': 2594, 'placing': 2595, 'swallowed': 2596, 'advise': 2597, 'hesitated': 2598, 'everybody': 2599, 'imagination': 2600, 'kinder': 2601, 'army': 2602, 'thus': 2603, 'longed': 2604, 'fourth': 2605, 'pleasantly': 2606, 'notion': 2607, 'coated': 2608, 'discover': 2609, 'deceived': 2610, \"i'd\": 2611, 'begin': 2612, 'needle': 2613, 'sewed': 2614, 'fancy': 2615, 'twenty': 2616, 'airtight': 2617, 'brother': 2618, 'throughout': 2619, 'silken': 2620, 'swelled': 2621, 'tugging': 2622, 'lighter': 2623, 'crack': 2624, 'upward': 2625, 'lovingly': 2626, 'passing': 2627, 'losing': 2628, 'ungrateful': 2629, 'mourn': 2630, 'pleasure': 2631, 'matters': 2632, 'respectfully': 2633, 'unlucky': 2634, 'content': 2635, 'modestly': 2636, 'disappointment': 2637, 'burst': 2638, 'advice': 2639, 'summoned': 2640, 'allowed': 2641, 'nobody': 2642, 'stands': 2643, 'race': 2644, 'travel': 2645, 'someone': 2646, 'starts': 2647, 'farewell': 2648, 'outer': 2649, 'forth': 2650, 'chatted': 2651, 'chased': 2652, 'moths': 2653, 'butterflies': 2654, 'agree': 2655, 'brisk': 2656, 'pace': 2657, 'courageous': 2658, 'towers': 2659, 'steeples': 2660, 'spires': 2661, 'dose': 2662, 'forgave': 2663, \"day's\": 2664, 'extend': 2665, 'change': 2666, 'easiest': 2667, 'spreading': 2668, 'twined': 2669, 'flung': 2670, 'headlong': 2671, 'dizzy': 2672, 'thrown': 2673, 'shouldering': 2674, 'handled': 2675, 'roughly': 2676, 'seize': 2677, 'pain': 2678, 'injury': 2679, 'policemen': 2680, 'surface': 2681, 'waked': 2682, 'stretch': 2683, 'platter': 2684, 'brightest': 2685, 'colors': 2686, 'barns': 2687, 'pigs': 2688, 'chickens': 2689, 'groups': 2690, 'milkmaids': 2691, 'shepherdesses': 2692, 'bodices': 2693, 'princesses': 2694, 'frocks': 2695, 'shepherds': 2696, 'breeches': 2697, 'stripes': 2698, 'buckles': 2699, 'princes': 2700, 'crowns': 2701, 'ermine': 2702, 'robes': 2703, 'doublets': 2704, 'ruffled': 2705, 'caps': 2706, 'tallest': 2707, 'extra': 2708, 'afterwards': 2709, 'pains': 2710, 'flattened': 2711, 'unwise': 2712, 'kick': 2713, 'kicked': 2714, 'stool': 2715, 'clatter': 2716, 'shocked': 2717, 'nick': 2718, \"mender's\": 2719, 'shop': 2720, 'glued': 2721, 'frightening': 2722, 'sulkily': 2723, 'limping': 2724, 'cast': 2725, 'reproachful': 2726, 'glances': 2727, 'nicked': 2728, 'hundred': 2729, 'comes': 2730, 'jolly': 2731, 'completely': 2732, 'plainly': 2733, 'pockets': 2734, 'puffing': 2735, 'nodding': 2736, 'saucily': 2737, 'fair': 2738, 'stare': 2739, 'stiff': 2740, 'prim': 2741, \"you'd\": 2742, 'poker': 2743, 'sir': 2744, 'considerably': 2745, 'cracked': 2746, \"em's\": 2747, 'mantel': 2748, 'contentedly': 2749, 'stiffen': 2750, 'mantels': 2751, 'cabinets': 2752, 'tables': 2753, 'scramble': 2754, 'upset': 2755, 'smashed': 2756, 'breaking': 2757, \"cow's\": 2758, 'brittle': 2759, 'damaged': 2760, 'disagreeable': 2761, 'bogs': 2762, 'marshes': 2763, 'rank': 2764, 'muddy': 2765, 'wilder': 2766, 'underbrush': 2767, 'moss': 2768, 'clings': 2769, 'rumble': 2770, 'whimpered': 2771, 'trodden': 2772, 'variety': 2773, 'foxes': 2774, 'natural': 2775, 'history': 2776, 'judged': 2777, 'assemblage': 2778, 'hushed': 2779, 'quietly': 2780, 'lately': 2781, 'tremendous': 2782, 'eight': 2783, 'crawls': 2784, 'seizes': 2785, 'drags': 2786, 'eats': 2787, 'decide': 2788, 'yonder': 2789, 'oak': 2790, 'forefoot': 2791, 'foe': 2792, 'disgust': 2793, 'coarse': 2794, 'pudgy': 2795, 'slender': 2796, \"wasp's\": 2797, 'hint': 2798, 'attack': 2799, 'easier': 2800, 'directly': 2801, \"monster's\": 2802, 'armed': 2803, \"spider's\": 2804, 'jumping': 2805, 'wiggling': 2806, 'safety': 2807, 'gloom': 2808, 'nevertheless': 2809, 'belongs': 2810, \"we're\": 2811, 'supported': 2812, 'lightning': 2813, \"man's\": 2814, 'tumbling': 2815, 'boisterous': 2816, 'armless': 2817, 'hillside': 2818, 'caused': 2819, 'echoed': 2820, 'thunder': 2821, 'rolling': 2822, 'cannon': 2823, 'bruised': 2824, 'sore': 2825, 'useless': 2826, 'shooting': 2827, 'withstand': 2828, 'putting': 2829, 'uttered': 2830, 'prompt': 2831, 'yelled': 2832, 'vexation': 2833, 'summon': 2834, 'twinkling': 2835, 'ripening': 2836, 'brooks': 2837, 'fat': 2838, 'chubby': 2839, 'yellowing': 2840, 'cake': 2841, 'cookies': 2842, 'bowl': 2843, 'milk': 2844, 'afresh': 2845, 'uniforms': 2846, 'trimmed': 2847, 'braid': 2848, 'approached': 2849, 'combed': 2850, 'presentable': 2851, 'ringlets': 2852, 'adventures': 2853, 'mourning': 2854, 'afford': 2855, 'upturned': 2856, 'bless': 2857, 'smiling': 2858, 'worries': 2859, 'deprive': 2860, 'unusual': 2861, 'grand': 2862, 'evermore': 2863, 'whole': 2864, 'desired': 2865, 'knock': 2866, 'patting': 2867, 'weeping': 2868, 'kissing': 2869, 'sorrowful': 2870, 'parting': 2871, 'solemnly': 2872, 'clapped': 2873, 'whirling': 2874, 'barnyard': 2875, 'barn': 2876, 'stocking': 2877, 'cabbages': 2878, 'darling': 2879, 'folding': 2880, 'kisses': 2881}\n"
          ],
          "name": "stdout"
        }
      ]
    },
    {
      "cell_type": "code",
      "metadata": {
        "colab": {
          "base_uri": "https://localhost:8080/"
        },
        "id": "b3Ge5hnCw1MB",
        "outputId": "4f7cb88f-e26a-408e-828a-094ff229b572"
      },
      "source": [
        "print(f\"Total Number of Words: {word_count}\")"
      ],
      "execution_count": null,
      "outputs": [
        {
          "output_type": "stream",
          "text": [
            "Total Number of Words: 2882\n"
          ],
          "name": "stdout"
        }
      ]
    },
    {
      "cell_type": "code",
      "metadata": {
        "colab": {
          "base_uri": "https://localhost:8080/"
        },
        "id": "LjA6iLfLYRiC",
        "outputId": "aff9f5e0-39f3-4ba2-f8cd-14f508c37ba4"
      },
      "source": [
        "print(initial_data[13])"
      ],
      "execution_count": null,
      "outputs": [
        {
          "output_type": "stream",
          "text": [
            "The house whirled around two or three times and rose slowly through the air. Dorothy felt as if she were going up in a balloon.\n"
          ],
          "name": "stdout"
        }
      ]
    },
    {
      "cell_type": "code",
      "metadata": {
        "id": "DLOrGGXc3nXS"
      },
      "source": [
        "demo_sequence = tokenizer.texts_to_sequences([initial_data[13]])[0]"
      ],
      "execution_count": null,
      "outputs": []
    },
    {
      "cell_type": "code",
      "metadata": {
        "colab": {
          "base_uri": "https://localhost:8080/"
        },
        "id": "BKmqLr0h4EAs",
        "outputId": "b46b253f-7e14-4291-8074-33d12a99dc5f"
      },
      "source": [
        "print(demo_sequence)"
      ],
      "execution_count": null,
      "outputs": [
        {
          "output_type": "stream",
          "text": [
            "[1, 173, 1294, 146, 278, 145, 207, 286, 2, 780, 546, 116, 1, 163, 16, 389, 18, 48, 14, 31, 228, 62, 9, 5, 243]\n"
          ],
          "name": "stdout"
        }
      ]
    },
    {
      "cell_type": "code",
      "metadata": {
        "colab": {
          "base_uri": "https://localhost:8080/"
        },
        "id": "k2cj6WaINQ1N",
        "outputId": "aa255a58-9123-4bca-aff4-ef75fe8f63f7"
      },
      "source": [
        "for i in range(1, len(demo_sequence)):\n",
        "    print((demo_sequence[:i+1]))"
      ],
      "execution_count": null,
      "outputs": [
        {
          "output_type": "stream",
          "text": [
            "[1, 173]\n",
            "[1, 173, 1294]\n",
            "[1, 173, 1294, 146]\n",
            "[1, 173, 1294, 146, 278]\n",
            "[1, 173, 1294, 146, 278, 145]\n",
            "[1, 173, 1294, 146, 278, 145, 207]\n",
            "[1, 173, 1294, 146, 278, 145, 207, 286]\n",
            "[1, 173, 1294, 146, 278, 145, 207, 286, 2]\n",
            "[1, 173, 1294, 146, 278, 145, 207, 286, 2, 780]\n",
            "[1, 173, 1294, 146, 278, 145, 207, 286, 2, 780, 546]\n",
            "[1, 173, 1294, 146, 278, 145, 207, 286, 2, 780, 546, 116]\n",
            "[1, 173, 1294, 146, 278, 145, 207, 286, 2, 780, 546, 116, 1]\n",
            "[1, 173, 1294, 146, 278, 145, 207, 286, 2, 780, 546, 116, 1, 163]\n",
            "[1, 173, 1294, 146, 278, 145, 207, 286, 2, 780, 546, 116, 1, 163, 16]\n",
            "[1, 173, 1294, 146, 278, 145, 207, 286, 2, 780, 546, 116, 1, 163, 16, 389]\n",
            "[1, 173, 1294, 146, 278, 145, 207, 286, 2, 780, 546, 116, 1, 163, 16, 389, 18]\n",
            "[1, 173, 1294, 146, 278, 145, 207, 286, 2, 780, 546, 116, 1, 163, 16, 389, 18, 48]\n",
            "[1, 173, 1294, 146, 278, 145, 207, 286, 2, 780, 546, 116, 1, 163, 16, 389, 18, 48, 14]\n",
            "[1, 173, 1294, 146, 278, 145, 207, 286, 2, 780, 546, 116, 1, 163, 16, 389, 18, 48, 14, 31]\n",
            "[1, 173, 1294, 146, 278, 145, 207, 286, 2, 780, 546, 116, 1, 163, 16, 389, 18, 48, 14, 31, 228]\n",
            "[1, 173, 1294, 146, 278, 145, 207, 286, 2, 780, 546, 116, 1, 163, 16, 389, 18, 48, 14, 31, 228, 62]\n",
            "[1, 173, 1294, 146, 278, 145, 207, 286, 2, 780, 546, 116, 1, 163, 16, 389, 18, 48, 14, 31, 228, 62, 9]\n",
            "[1, 173, 1294, 146, 278, 145, 207, 286, 2, 780, 546, 116, 1, 163, 16, 389, 18, 48, 14, 31, 228, 62, 9, 5]\n",
            "[1, 173, 1294, 146, 278, 145, 207, 286, 2, 780, 546, 116, 1, 163, 16, 389, 18, 48, 14, 31, 228, 62, 9, 5, 243]\n"
          ],
          "name": "stdout"
        }
      ]
    },
    {
      "cell_type": "code",
      "metadata": {
        "id": "W3H4cIJNaDz7"
      },
      "source": [
        "input_sequences = []\n",
        "for line in initial_data:\n",
        "    partial_sequence = tokenizer.texts_to_sequences([line])[0]\n",
        "    for i in range(1, len(partial_sequence)):\n",
        "        input_sequences.append(partial_sequence[:i+1])"
      ],
      "execution_count": null,
      "outputs": []
    },
    {
      "cell_type": "code",
      "metadata": {
        "id": "-MpKYguV6Wp2"
      },
      "source": [
        "padded_sequences = pad_sequences(input_sequences, padding='pre')"
      ],
      "execution_count": null,
      "outputs": []
    },
    {
      "cell_type": "code",
      "metadata": {
        "colab": {
          "base_uri": "https://localhost:8080/"
        },
        "id": "vysTE42F6j0h",
        "outputId": "b7f9c6c6-fc10-45b2-ab9c-da62e69585e4"
      },
      "source": [
        "print(np.array_str(padded_sequences[768], max_line_width=np.inf))"
      ],
      "execution_count": null,
      "outputs": [
        {
          "output_type": "stream",
          "text": [
            "[   0    0    0    0    0    0    0    0    0    0    0    0    0    0    0    0    0    0    0    0    0    0    0    0    0    0    0    0    0    0    0    0    0    0    0    0    0    0    0    0    0    0    0    0    0    0    0    0    0    0    0    0    0    0    0    0    0    0    0    0    0    0    0    0    0    0    0    0    0    0    0    0    0    0    0    0    0    0    0    0    0    0    0    0    0    0    0    0    0    0    0    0    0    0    0    0    0    0    0    0    0    0    0    0    0    0    0    0    0    0    0    0    0    0    0    0    0    0    0    0    0    0    0    0    0    0    0    0    0    0    0    0    0    0    0    0    0    0    0    0    0    0    0    0    0    0    0    0    0    0    0    0    0    0    0    0    0    0    0    0    0    0    0    0    0    0    0    0    0    0    0    0    0    0    0    0    0    0    0    0    0    0    0    0    0    0    0    0    0    0    1  173 1294  146  278  145  207  286    2  780  546  116    1  163   16  389   18   48   14   31  228   62    9    5  243]\n"
          ],
          "name": "stdout"
        }
      ]
    },
    {
      "cell_type": "code",
      "metadata": {
        "colab": {
          "base_uri": "https://localhost:8080/"
        },
        "id": "qAERKyZd7c6j",
        "outputId": "781e8111-e227-4e7c-8c41-a1ccf7796623"
      },
      "source": [
        "print(padded_sequences.shape)"
      ],
      "execution_count": null,
      "outputs": [
        {
          "output_type": "stream",
          "text": [
            "(38137, 215)\n"
          ],
          "name": "stdout"
        }
      ]
    },
    {
      "cell_type": "code",
      "metadata": {
        "id": "M6oBPx6ndzy2"
      },
      "source": [
        "xs = padded_sequences[:,:-1]\n",
        "ls = padded_sequences[:,-1]"
      ],
      "execution_count": null,
      "outputs": []
    },
    {
      "cell_type": "code",
      "metadata": {
        "id": "mGIMWExbeA0m"
      },
      "source": [
        "ys = tf.keras.utils.to_categorical(ls, num_classes=word_count)"
      ],
      "execution_count": null,
      "outputs": []
    },
    {
      "cell_type": "code",
      "metadata": {
        "id": "PYKtwHqO-0NF"
      },
      "source": [
        "def create_model():\n",
        "    model = tf.keras.Sequential([\n",
        "        tf.keras.layers.Embedding(word_count, 256, input_length=xs.shape[1]),\n",
        "        tf.keras.layers.Bidirectional(tf.keras.layers.LSTM(256)),\n",
        "        tf.keras.layers.Dense(word_count, activation='softmax'),\n",
        "    ])\n",
        "    return model"
      ],
      "execution_count": null,
      "outputs": []
    },
    {
      "cell_type": "code",
      "metadata": {
        "id": "36O3FMAF0ORW"
      },
      "source": [
        "model = create_model()"
      ],
      "execution_count": null,
      "outputs": []
    },
    {
      "cell_type": "code",
      "metadata": {
        "id": "Omp3F5iVgKVx"
      },
      "source": [
        "model.compile(loss='categorical_crossentropy', optimizer='adam', metrics=['accuracy'])"
      ],
      "execution_count": null,
      "outputs": []
    },
    {
      "cell_type": "code",
      "metadata": {
        "colab": {
          "base_uri": "https://localhost:8080/"
        },
        "id": "NCDl8lTzjJYu",
        "outputId": "d0de4261-a7d5-4bce-8fdc-1a1b5681316c"
      },
      "source": [
        "model.summary()"
      ],
      "execution_count": null,
      "outputs": [
        {
          "output_type": "stream",
          "text": [
            "Model: \"sequential\"\n",
            "_________________________________________________________________\n",
            "Layer (type)                 Output Shape              Param #   \n",
            "=================================================================\n",
            "embedding (Embedding)        (None, 214, 256)          737792    \n",
            "_________________________________________________________________\n",
            "bidirectional (Bidirectional (None, 512)               1050624   \n",
            "_________________________________________________________________\n",
            "dense (Dense)                (None, 2882)              1478466   \n",
            "=================================================================\n",
            "Total params: 3,266,882\n",
            "Trainable params: 3,266,882\n",
            "Non-trainable params: 0\n",
            "_________________________________________________________________\n"
          ],
          "name": "stdout"
        }
      ]
    },
    {
      "cell_type": "code",
      "metadata": {
        "id": "pNcuPsqsfdTs"
      },
      "source": [
        "checkpoint_dir = './training_checkpoints'"
      ],
      "execution_count": null,
      "outputs": []
    },
    {
      "cell_type": "code",
      "metadata": {
        "id": "3bExa_LC14YP"
      },
      "source": [
        "checkpoint_prefix = os.path.join(checkpoint_dir, \"ckpt_{epoch}\")\n",
        "\n",
        "checkpoint_callback = tf.keras.callbacks.ModelCheckpoint(\n",
        "    filepath=checkpoint_prefix,\n",
        "    save_weights_only=True\n",
        ")"
      ],
      "execution_count": null,
      "outputs": []
    },
    {
      "cell_type": "code",
      "metadata": {
        "colab": {
          "base_uri": "https://localhost:8080/"
        },
        "id": "c7T5DEQ5gnv5",
        "outputId": "6cee944e-dc11-4710-a478-45aa92609e2c"
      },
      "source": [
        "training = model.fit(xs, ys, epochs=30, verbose=1, callbacks=[checkpoint_callback])"
      ],
      "execution_count": null,
      "outputs": [
        {
          "output_type": "stream",
          "text": [
            "Epoch 1/30\n",
            "1192/1192 [==============================] - 56s 39ms/step - loss: 6.0837 - accuracy: 0.0876\n",
            "Epoch 2/30\n",
            "1192/1192 [==============================] - 47s 39ms/step - loss: 4.7831 - accuracy: 0.1610\n",
            "Epoch 3/30\n",
            "1192/1192 [==============================] - 47s 40ms/step - loss: 4.2322 - accuracy: 0.2012\n",
            "Epoch 4/30\n",
            "1192/1192 [==============================] - 48s 40ms/step - loss: 3.7614 - accuracy: 0.2394\n",
            "Epoch 5/30\n",
            "1192/1192 [==============================] - 48s 40ms/step - loss: 3.3158 - accuracy: 0.2876\n",
            "Epoch 6/30\n",
            "1192/1192 [==============================] - 47s 40ms/step - loss: 2.9187 - accuracy: 0.3416\n",
            "Epoch 7/30\n",
            "1192/1192 [==============================] - 48s 40ms/step - loss: 2.5020 - accuracy: 0.4235\n",
            "Epoch 8/30\n",
            "1192/1192 [==============================] - 48s 40ms/step - loss: 2.1067 - accuracy: 0.5101\n",
            "Epoch 9/30\n",
            "1192/1192 [==============================] - 48s 40ms/step - loss: 1.7856 - accuracy: 0.5910\n",
            "Epoch 10/30\n",
            "1192/1192 [==============================] - 48s 40ms/step - loss: 1.4906 - accuracy: 0.6597\n",
            "Epoch 11/30\n",
            "1192/1192 [==============================] - 48s 40ms/step - loss: 1.2280 - accuracy: 0.7302\n",
            "Epoch 12/30\n",
            "1192/1192 [==============================] - 48s 40ms/step - loss: 0.9963 - accuracy: 0.7886\n",
            "Epoch 13/30\n",
            "1192/1192 [==============================] - 48s 40ms/step - loss: 0.8148 - accuracy: 0.8343\n",
            "Epoch 14/30\n",
            "1192/1192 [==============================] - 48s 40ms/step - loss: 0.6594 - accuracy: 0.8733\n",
            "Epoch 15/30\n",
            "1192/1192 [==============================] - 48s 40ms/step - loss: 0.5231 - accuracy: 0.9086\n",
            "Epoch 16/30\n",
            "1192/1192 [==============================] - 48s 40ms/step - loss: 0.4313 - accuracy: 0.9258\n",
            "Epoch 17/30\n",
            "1192/1192 [==============================] - 48s 40ms/step - loss: 0.3586 - accuracy: 0.9383\n",
            "Epoch 18/30\n",
            "1192/1192 [==============================] - 48s 40ms/step - loss: 0.3094 - accuracy: 0.9452\n",
            "Epoch 19/30\n",
            "1192/1192 [==============================] - 48s 40ms/step - loss: 0.2551 - accuracy: 0.9543\n",
            "Epoch 20/30\n",
            "1192/1192 [==============================] - 48s 40ms/step - loss: 0.2335 - accuracy: 0.9559\n",
            "Epoch 21/30\n",
            "1192/1192 [==============================] - 48s 40ms/step - loss: 0.2181 - accuracy: 0.9577\n",
            "Epoch 22/30\n",
            "1192/1192 [==============================] - 48s 40ms/step - loss: 0.1934 - accuracy: 0.9603\n",
            "Epoch 23/30\n",
            "1192/1192 [==============================] - 48s 40ms/step - loss: 0.1957 - accuracy: 0.9601\n",
            "Epoch 24/30\n",
            "1192/1192 [==============================] - 48s 40ms/step - loss: 0.1845 - accuracy: 0.9599\n",
            "Epoch 25/30\n",
            "1192/1192 [==============================] - 47s 40ms/step - loss: 0.1770 - accuracy: 0.9609\n",
            "Epoch 26/30\n",
            "1192/1192 [==============================] - 48s 40ms/step - loss: 0.1703 - accuracy: 0.9604\n",
            "Epoch 27/30\n",
            "1192/1192 [==============================] - 48s 40ms/step - loss: 0.1616 - accuracy: 0.9622\n",
            "Epoch 28/30\n",
            "1192/1192 [==============================] - 47s 40ms/step - loss: 0.2020 - accuracy: 0.9529\n",
            "Epoch 29/30\n",
            "1192/1192 [==============================] - 47s 40ms/step - loss: 0.1567 - accuracy: 0.9616\n",
            "Epoch 30/30\n",
            "1192/1192 [==============================] - 47s 40ms/step - loss: 0.1366 - accuracy: 0.9649\n"
          ],
          "name": "stdout"
        }
      ]
    },
    {
      "cell_type": "code",
      "metadata": {
        "colab": {
          "base_uri": "https://localhost:8080/",
          "height": 282
        },
        "id": "AXdV39Roishk",
        "outputId": "916b09cc-e822-4513-e7b3-c51e4948018d"
      },
      "source": [
        "  plt.plot(training.history['accuracy'])\n",
        "  plt.xlabel(\"Epochs\")\n",
        "  plt.ylabel(\"Accuracy\")\n",
        "  plt.show()"
      ],
      "execution_count": null,
      "outputs": [
        {
          "output_type": "display_data",
          "data": {
            "image/png": "[encoded data removed]",
            "text/plain": [
              "<Figure size 432x288 with 1 Axes>"
            ]
          },
          "metadata": {
            "tags": [],
            "needs_background": "light"
          }
        }
      ]
    },
    {
      "cell_type": "code",
      "metadata": {
        "colab": {
          "base_uri": "https://localhost:8080/"
        },
        "id": "o3yLvF4YO6Ik",
        "outputId": "9b306d07-978f-4981-e924-3771bd494c0d"
      },
      "source": [
        "# selected_file = files.upload()\n",
        "print(\"Skipping...\")"
      ],
      "execution_count": null,
      "outputs": [
        {
          "output_type": "stream",
          "text": [
            "Skipping...\n"
          ],
          "name": "stdout"
        }
      ]
    },
    {
      "cell_type": "code",
      "metadata": {
        "colab": {
          "base_uri": "https://localhost:8080/"
        },
        "id": "2mQgE-mg3uqj",
        "outputId": "664d5834-2706-42b9-8a5d-942557c7aea5"
      },
      "source": [
        "# model = create_model()\n",
        "print(\"Skipping...\")"
      ],
      "execution_count": null,
      "outputs": [
        {
          "output_type": "stream",
          "text": [
            "Skipping...\n"
          ],
          "name": "stdout"
        }
      ]
    },
    {
      "cell_type": "code",
      "metadata": {
        "colab": {
          "base_uri": "https://localhost:8080/"
        },
        "id": "t6lxfNVBtyoN",
        "outputId": "e6e35f2f-bbad-4e72-de1b-2553ecbfafa0"
      },
      "source": [
        "# model.load_weights('./ckpt_30')\n",
        "print(\"Skipping...\")"
      ],
      "execution_count": null,
      "outputs": [
        {
          "output_type": "stream",
          "text": [
            "Skipping...\n"
          ],
          "name": "stdout"
        }
      ]
    },
    {
      "cell_type": "code",
      "metadata": {
        "id": "hrG3Bg1PlYzU"
      },
      "source": [
        "def generate_text(starting_text, sentence_length):\n",
        "    sentence = starting_text\n",
        "    for _ in range(sentence_length):\n",
        "        starting_sequence_original = tokenizer.texts_to_sequences([sentence])[0]\n",
        "        starting_sequence_padded = pad_sequences(\n",
        "            [starting_sequence_original],\n",
        "            maxlen=xs.shape[1],\n",
        "            padding='pre'\n",
        "        )\n",
        "        scores = model.predict(starting_sequence_padded)\n",
        "        predicted = np.argmax(scores, axis=-1)\n",
        "        output_word = \"\"\n",
        "        for word, index in tokenizer.word_index.items():\n",
        "            if index == predicted:\n",
        "                output_word = word\n",
        "                print(word, predicted, scores[0][predicted])\n",
        "                break\n",
        "        sentence += \" \" + output_word\n",
        "    return sentence"
      ],
      "execution_count": null,
      "outputs": []
    },
    {
      "cell_type": "code",
      "metadata": {
        "colab": {
          "base_uri": "https://localhost:8080/"
        },
        "id": "fT6ck5UQnhMp",
        "outputId": "aa20ff49-2f88-4398-e8e7-8fa8d71ff48b"
      },
      "source": [
        "my_sentence = generate_text(\"The\", 20)"
      ],
      "execution_count": null,
      "outputs": [
        {
          "output_type": "stream",
          "text": [
            "scarecrow [29] [0.13397764]\n",
            "was [7] [0.6146363]\n",
            "now [84] [0.7873182]\n",
            "the [1] [0.93392307]\n",
            "ruler [767] [0.99486476]\n",
            "of [4] [0.9986382]\n",
            "the [1] [0.99957365]\n",
            "emerald [113] [0.93001366]\n",
            "city [86] [0.9999281]\n",
            "and [2] [0.99625117]\n",
            "although [316] [0.99830353]\n",
            "he [10] [0.9791052]\n",
            "was [7] [0.98450756]\n",
            "not [27] [0.99316794]\n",
            "a [5] [0.99812204]\n",
            "wizard [167] [0.99002457]\n",
            "the [1] [0.95684856]\n",
            "people [112] [0.925874]\n",
            "were [31] [0.99009764]\n",
            "proud [646] [0.9817406]\n"
          ],
          "name": "stdout"
        }
      ]
    },
    {
      "cell_type": "code",
      "metadata": {
        "colab": {
          "base_uri": "https://localhost:8080/"
        },
        "id": "J-ciZWvIB1lt",
        "outputId": "6c88e6a3-3677-45db-9410-815333825310"
      },
      "source": [
        "print(my_sentence)"
      ],
      "execution_count": null,
      "outputs": [
        {
          "output_type": "stream",
          "text": [
            "The scarecrow was now the ruler of the emerald city and although he was not a wizard the people were proud\n"
          ],
          "name": "stdout"
        }
      ]
    },
    {
      "cell_type": "code",
      "metadata": {
        "colab": {
          "base_uri": "https://localhost:8080/"
        },
        "id": "1DkvwjdvQXTP",
        "outputId": "8fa17efc-78e8-421a-9910-1cff219ba932"
      },
      "source": [
        "my_sentence = generate_text(\"The sun\", 27)"
      ],
      "execution_count": null,
      "outputs": [
        {
          "output_type": "stream",
          "text": [
            "shone [813] [0.9973109]\n",
            "brightly [841] [0.9919593]\n",
            "as [18] [0.99218315]\n",
            "our [193] [0.9917134]\n",
            "friends [178] [0.9958205]\n",
            "turned [368] [0.9985808]\n",
            "their [65] [0.9842084]\n",
            "faces [1231] [0.97666264]\n",
            "toward [265] [0.9865551]\n",
            "the [1] [0.99978167]\n",
            "land [161] [0.95959646]\n",
            "of [4] [0.9977997]\n",
            "the [1] [0.9872967]\n",
            "south [367] [0.89101917]\n",
            "they [13] [0.9989511]\n",
            "were [31] [0.9899565]\n",
            "all [26] [0.9965036]\n",
            "in [9] [0.998035]\n",
            "the [1] [0.99005276]\n",
            "best [470] [0.97443527]\n",
            "of [4] [0.99967444]\n",
            "spirits [1669] [0.9999645]\n",
            "and [2] [0.99983513]\n",
            "laughed [585] [0.9931793]\n",
            "and [2] [0.9969554]\n",
            "chatted [2651] [0.9999417]\n",
            "together [231] [0.99536985]\n"
          ],
          "name": "stdout"
        }
      ]
    },
    {
      "cell_type": "code",
      "metadata": {
        "colab": {
          "base_uri": "https://localhost:8080/"
        },
        "id": "YiW6FrKlQiA0",
        "outputId": "f5fe0754-9e6f-49b8-8e2f-0d7158c495a0"
      },
      "source": [
        "print(my_sentence)"
      ],
      "execution_count": null,
      "outputs": [
        {
          "output_type": "stream",
          "text": [
            "The sun shone brightly as our friends turned their faces toward the land of the south they were all in the best of spirits and laughed and chatted together\n"
          ],
          "name": "stdout"
        }
      ]
    }
  ]
}